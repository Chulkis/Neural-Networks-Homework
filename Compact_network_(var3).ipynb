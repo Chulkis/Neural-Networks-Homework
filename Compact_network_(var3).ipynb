{
 "cells": [
  {
   "cell_type": "markdown",
   "id": "a14a2763",
   "metadata": {},
   "source": [
    "## Вариант 3. Контроль количества параметров\n",
    "\n",
    "**Цель:** Создание компактной сети.\n",
    "\n",
    "- Создайте архитектуру, используя **не более 50 000 параметров**.\n",
    "- **Условие:** Один слой должен быть **1x1 сверткой**, чтобы уменьшить число каналов.\n",
    "- **Эксперимент:** Подсчитайте количество параметров каждого слоя и убедитесь, что общая сумма не превышает лимита."
   ]
  },
  {
   "cell_type": "code",
   "execution_count": 50,
   "id": "109b7fa7",
   "metadata": {},
   "outputs": [],
   "source": [
    "import torch\n",
    "from torch import nn\n",
    "import torch.nn.functional as F"
   ]
  },
  {
   "cell_type": "code",
   "execution_count": 60,
   "id": "e1a25e78",
   "metadata": {},
   "outputs": [
    {
     "data": {
      "text/plain": [
       "tensor([[ 0.0248,  0.0382, -0.1677,  0.0964, -0.1512, -0.2534,  0.1326,  0.1499,\n",
       "          0.0283,  0.0644]], grad_fn=<AddmmBackward0>)"
      ]
     },
     "execution_count": 60,
     "metadata": {},
     "output_type": "execute_result"
    }
   ],
   "source": [
    "class CompConvNet(nn.Module):\n",
    "    def __init__(self):\n",
    "        super().__init__()\n",
    "        self.conv1 = nn.Conv2d(3, 64, kernel_size=3, padding=1)\n",
    "        self.conv1_parameters_num = sum(p.numel() for p in self.conv1.parameters())\n",
    "\n",
    "        self.pool = nn.MaxPool2d(2, 2)\n",
    "        self.conv2 = nn.Conv2d(64, 16, kernel_size=1)\n",
    "        self.conv2_parameters_num = sum(p.numel() for p in self.conv2.parameters())\n",
    "\n",
    "        self.fc1 = nn.Linear(16 * 8 * 8, 32)\n",
    "        self.fc1_parameters_num = sum(p.numel() for p in self.fc1.parameters())\n",
    "\n",
    "        self.fc2 = nn.Linear(32, 10)\n",
    "        self.relu = nn.ReLU()\n",
    "        self.fc2_parameters_num = sum(p.numel() for p in self.fc2.parameters())\n",
    "\n",
    "    def count_parameters(model):\n",
    "        return sum(p.numel() for p in model.parameters())\n",
    "\n",
    "    def forward(self, x):\n",
    "        # Первый сверточный слой\n",
    "        x = self.conv1(x) # (64x32x32)\n",
    "        x = self.relu(x)\n",
    "        x = self.pool(x) # (64x16x16)\n",
    "        \n",
    "        # Второй сверточный слой\n",
    "        x = self.conv2(x) # (16x16x16)\n",
    "        x = self.relu(x)\n",
    "        x = self.pool(x) # (16x8x8)\n",
    "\n",
    "        # Выходной слой\n",
    "        x = x.view(x.size(0), -1) # (1x1x32)\n",
    "        x = F.relu(self.fc1(x))\n",
    "        x = self.fc2(x) # (1x1x10)\n",
    "        return x\n",
    "\n",
    "model = CompConvNet()\n",
    "\n",
    "test_tensor = torch.randn(1, 3, 32 ,32)\n",
    "model(test_tensor)\n"
   ]
  },
  {
   "cell_type": "code",
   "execution_count": 52,
   "id": "26a1a85f",
   "metadata": {},
   "outputs": [
    {
     "data": {
      "text/plain": [
       "35962"
      ]
     },
     "execution_count": 52,
     "metadata": {},
     "output_type": "execute_result"
    }
   ],
   "source": [
    "model.count_parameters()"
   ]
  },
  {
   "cell_type": "code",
   "execution_count": 53,
   "id": "a5ed488e",
   "metadata": {},
   "outputs": [
    {
     "name": "stdout",
     "output_type": "stream",
     "text": [
      "35962\n",
      "35962\n"
     ]
    }
   ],
   "source": [
    "print((3*3*3 + 1) * 64 + (1*1*64 + 1) * 16 + (16*8*8 + 1) * 32 + (32 + 1) * 10) # Рассчетное количество параметров\n",
    "print(model.conv1_parameters_num + model.conv2_parameters_num + model.fc1_parameters_num + model.fc2_parameters_num) # Действительное количество параметров"
   ]
  }
 ],
 "metadata": {
  "kernelspec": {
   "display_name": "Python 3",
   "language": "python",
   "name": "python3"
  },
  "language_info": {
   "codemirror_mode": {
    "name": "ipython",
    "version": 3
   },
   "file_extension": ".py",
   "mimetype": "text/x-python",
   "name": "python",
   "nbconvert_exporter": "python",
   "pygments_lexer": "ipython3",
   "version": "3.12.6"
  }
 },
 "nbformat": 4,
 "nbformat_minor": 5
}
